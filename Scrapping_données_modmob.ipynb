{
  "nbformat": 4,
  "nbformat_minor": 0,
  "metadata": {
    "colab": {
      "name": "Scrapping données modmob.ipynb",
      "provenance": [],
      "collapsed_sections": [],
      "authorship_tag": "ABX9TyNoH3E7h2CrULIgIOgzJcuI",
      "include_colab_link": true
    },
    "kernelspec": {
      "name": "python3",
      "display_name": "Python 3"
    }
  },
  "cells": [
    {
      "cell_type": "markdown",
      "metadata": {
        "id": "view-in-github",
        "colab_type": "text"
      },
      "source": [
        "<a href=\"https://colab.research.google.com/github/noelzogbladan/K_flix.py/blob/master/Scrapping_donn%C3%A9es_modmob.ipynb\" target=\"_parent\"><img src=\"https://colab.research.google.com/assets/colab-badge.svg\" alt=\"Open In Colab\"/></a>"
      ]
    },
    {
      "cell_type": "code",
      "metadata": {
        "colab": {
          "base_uri": "https://localhost:8080/"
        },
        "id": "K_rmvrYubICD",
        "outputId": "61ba7ec3-5bc9-41a0-a91c-aeb1319367e8"
      },
      "source": [
        "!apt update\n",
        "!apt upgrade\n",
        "!apt install gdal-bin python-gdal python3-gdal \n",
        "# Install rtree - Geopandas requirment\n",
        "!apt install python3-rtree \n",
        "# Install Geopandas\n",
        "!pip install git+git://github.com/geopandas/geopandas.git\n",
        "# Install descartes - Geopandas requirment\n",
        "!pip install descartes "
      ],
      "execution_count": null,
      "outputs": [
        {
          "output_type": "stream",
          "text": [
            "\u001b[33m\r0% [Working]\u001b[0m\r            \rIgn:1 https://developer.download.nvidia.com/compute/cuda/repos/ubuntu1804/x86_64  InRelease\n",
            "\u001b[33m\r0% [Waiting for headers] [Waiting for headers] [Waiting for headers] [Connectin\u001b[0m\r                                                                               \rGet:2 https://cloud.r-project.org/bin/linux/ubuntu bionic-cran40/ InRelease [3,626 B]\n",
            "\u001b[33m\r0% [Waiting for headers] [Waiting for headers] [2 InRelease 0 B/3,626 B 0%] [Co\u001b[0m\u001b[33m\r0% [Waiting for headers] [Waiting for headers] [Connecting to ppa.launchpad.net\u001b[0m\u001b[33m\r0% [2 InRelease gpgv 3,626 B] [Waiting for headers] [Waiting for headers] [Conn\u001b[0m\r                                                                               \rHit:3 http://archive.ubuntu.com/ubuntu bionic InRelease\n",
            "\u001b[33m\r0% [2 InRelease gpgv 3,626 B] [Waiting for headers] [Waiting for headers] [Wait\u001b[0m\r                                                                               \rIgn:4 https://developer.download.nvidia.com/compute/machine-learning/repos/ubuntu1804/x86_64  InRelease\n",
            "Get:5 http://security.ubuntu.com/ubuntu bionic-security InRelease [88.7 kB]\n",
            "Get:6 https://developer.download.nvidia.com/compute/cuda/repos/ubuntu1804/x86_64  Release [697 B]\n",
            "Hit:7 https://developer.download.nvidia.com/compute/machine-learning/repos/ubuntu1804/x86_64  Release\n",
            "Get:8 https://developer.download.nvidia.com/compute/cuda/repos/ubuntu1804/x86_64  Release.gpg [836 B]\n",
            "Get:9 http://ppa.launchpad.net/c2d4u.team/c2d4u4.0+/ubuntu bionic InRelease [15.9 kB]\n",
            "Get:10 http://archive.ubuntu.com/ubuntu bionic-updates InRelease [88.7 kB]\n",
            "Hit:11 http://ppa.launchpad.net/cran/libgit2/ubuntu bionic InRelease\n",
            "Get:12 https://cloud.r-project.org/bin/linux/ubuntu bionic-cran40/ Packages [49.4 kB]\n",
            "Get:13 http://archive.ubuntu.com/ubuntu bionic-backports InRelease [74.6 kB]\n",
            "Hit:14 http://ppa.launchpad.net/deadsnakes/ppa/ubuntu bionic InRelease\n",
            "Hit:15 http://ppa.launchpad.net/graphics-drivers/ppa/ubuntu bionic InRelease\n",
            "Ign:17 https://developer.download.nvidia.com/compute/cuda/repos/ubuntu1804/x86_64  Packages\n",
            "Get:17 https://developer.download.nvidia.com/compute/cuda/repos/ubuntu1804/x86_64  Packages [603 kB]\n",
            "Get:18 http://ppa.launchpad.net/c2d4u.team/c2d4u4.0+/ubuntu bionic/main Sources [1,746 kB]\n",
            "Get:19 http://security.ubuntu.com/ubuntu bionic-security/main amd64 Packages [1,995 kB]\n",
            "Get:20 http://archive.ubuntu.com/ubuntu bionic-updates/universe amd64 Packages [2,165 kB]\n",
            "Get:21 http://security.ubuntu.com/ubuntu bionic-security/restricted amd64 Packages [333 kB]\n",
            "Get:22 http://security.ubuntu.com/ubuntu bionic-security/universe amd64 Packages [1,398 kB]\n",
            "Get:23 http://ppa.launchpad.net/c2d4u.team/c2d4u4.0+/ubuntu bionic/main amd64 Packages [894 kB]\n",
            "Get:24 http://archive.ubuntu.com/ubuntu bionic-updates/main amd64 Packages [2,437 kB]\n",
            "Get:25 http://archive.ubuntu.com/ubuntu bionic-updates/restricted amd64 Packages [367 kB]\n",
            "Fetched 12.3 MB in 3s (3,604 kB/s)\n",
            "Reading package lists... Done\n",
            "Building dependency tree       \n",
            "Reading state information... Done\n",
            "55 packages can be upgraded. Run 'apt list --upgradable' to see them.\n",
            "Reading package lists... Done\n",
            "Building dependency tree       \n",
            "Reading state information... Done\n",
            "Calculating upgrade... Done\n",
            "The following packages were automatically installed and are no longer required:\n",
            "  linux-headers-4.15.0-136 linux-headers-4.15.0-136-generic\n",
            "Use 'apt autoremove' to remove them.\n",
            "The following NEW packages will be installed:\n",
            "  linux-headers-4.15.0-139 linux-headers-4.15.0-139-generic\n",
            "The following packages have been kept back:\n",
            "  libcudnn8 libcudnn8-dev libnccl-dev libnccl2\n",
            "The following packages will be upgraded:\n",
            "  binutils binutils-common binutils-x86-64-linux-gnu cuda-compat-11-0 git\n",
            "  git-man gnupg2 libaudit-common libaudit1 libbinutils libc-bin libcublas-dev\n",
            "  libcublas10 libcudnn7 libcudnn7-dev libglib2.0-0 libglib2.0-bin\n",
            "  libglib2.0-data libglib2.0-dev libglib2.0-dev-bin libldap-2.4-2\n",
            "  libldap-common libp11-kit0 libpam-systemd libperl5.26 libsasl2-2\n",
            "  libsasl2-modules-db libsystemd0 libudev1 libzstd1 linux-headers-generic\n",
            "  linux-libc-dev nsight-compute-2020.3.1 openssl perl perl-base\n",
            "  perl-modules-5.26 r-cran-desc r-cran-dplyr r-cran-isoband r-cran-pillar\n",
            "  r-cran-rvest r-cran-survival r-cran-tinytex r-cran-utf8 r-cran-waldo\n",
            "  r-cran-xfun systemd systemd-sysv tar udev\n",
            "51 upgraded, 2 newly installed, 0 to remove and 4 not upgraded.\n",
            "Need to get 768 MB of archives.\n",
            "After this operation, 157 MB of additional disk space will be used.\n",
            "Get:1 https://developer.download.nvidia.com/compute/cuda/repos/ubuntu1804/x86_64  cuda-compat-11-0 450.102.04-1 [6,712 kB]\n",
            "Get:2 https://cloud.r-project.org/bin/linux/ubuntu bionic-cran40/ r-cran-survival 3.2-10-1cran1.1804.0 [6,413 kB]\n",
            "Get:3 http://ppa.launchpad.net/c2d4u.team/c2d4u4.0+/ubuntu bionic/main amd64 r-cran-desc all 1.3.0-1cran1.1804.0 [493 kB]\n",
            "Get:4 http://archive.ubuntu.com/ubuntu bionic-updates/main amd64 libperl5.26 amd64 5.26.1-6ubuntu0.5 [3,534 kB]\n",
            "Get:5 https://developer.download.nvidia.com/compute/cuda/repos/ubuntu1804/x86_64  libcublas10 10.2.3.254-1 [43.1 MB]\n",
            "Get:6 http://ppa.launchpad.net/c2d4u.team/c2d4u4.0+/ubuntu bionic/main amd64 r-cran-dplyr amd64 1.0.5-1cran1.1804.0 [1,054 kB]\n",
            "Get:7 http://archive.ubuntu.com/ubuntu bionic-updates/main amd64 perl amd64 5.26.1-6ubuntu0.5 [201 kB]\n",
            "Get:8 http://archive.ubuntu.com/ubuntu bionic-updates/main amd64 perl-base amd64 5.26.1-6ubuntu0.5 [1,391 kB]\n",
            "Get:9 http://archive.ubuntu.com/ubuntu bionic-updates/main amd64 perl-modules-5.26 all 5.26.1-6ubuntu0.5 [2,762 kB]\n",
            "Get:10 http://archive.ubuntu.com/ubuntu bionic-updates/main amd64 tar amd64 1.29b-2ubuntu0.2 [234 kB]\n",
            "Get:11 http://archive.ubuntu.com/ubuntu bionic-updates/main amd64 libc-bin amd64 2.27-3ubuntu1.4 [643 kB]\n",
            "Get:12 http://archive.ubuntu.com/ubuntu bionic-updates/main amd64 systemd-sysv amd64 237-3ubuntu10.45 [16.7 kB]\n",
            "Get:13 http://archive.ubuntu.com/ubuntu bionic-updates/main amd64 libpam-systemd amd64 237-3ubuntu10.45 [107 kB]\n",
            "Get:14 http://archive.ubuntu.com/ubuntu bionic-updates/main amd64 libsystemd0 amd64 237-3ubuntu10.45 [210 kB]\n",
            "Get:15 http://archive.ubuntu.com/ubuntu bionic-updates/main amd64 systemd amd64 237-3ubuntu10.45 [2,913 kB]\n",
            "Get:16 http://archive.ubuntu.com/ubuntu bionic-updates/main amd64 udev amd64 237-3ubuntu10.45 [1,101 kB]\n",
            "Get:17 http://archive.ubuntu.com/ubuntu bionic-updates/main amd64 libudev1 amd64 237-3ubuntu10.45 [59.0 kB]\n",
            "Get:18 http://archive.ubuntu.com/ubuntu bionic-updates/main amd64 libaudit-common all 1:2.8.2-1ubuntu1.1 [4,068 B]\n",
            "Get:19 http://archive.ubuntu.com/ubuntu bionic-updates/main amd64 libaudit1 amd64 1:2.8.2-1ubuntu1.1 [38.7 kB]\n",
            "Get:20 http://archive.ubuntu.com/ubuntu bionic-updates/main amd64 libzstd1 amd64 1.3.3+dfsg-2ubuntu1.2 [189 kB]\n",
            "Get:21 http://archive.ubuntu.com/ubuntu bionic-updates/main amd64 libp11-kit0 amd64 0.23.9-2ubuntu0.1 [187 kB]\n",
            "Get:22 http://archive.ubuntu.com/ubuntu bionic-updates/main amd64 libglib2.0-dev amd64 2.56.4-0ubuntu0.18.04.8 [1,386 kB]\n",
            "Get:23 http://archive.ubuntu.com/ubuntu bionic-updates/main amd64 libglib2.0-dev-bin amd64 2.56.4-0ubuntu0.18.04.8 [102 kB]\n",
            "Get:24 http://archive.ubuntu.com/ubuntu bionic-updates/main amd64 libglib2.0-data all 2.56.4-0ubuntu0.18.04.8 [4,716 B]\n",
            "Get:25 http://archive.ubuntu.com/ubuntu bionic-updates/main amd64 libglib2.0-bin amd64 2.56.4-0ubuntu0.18.04.8 [68.5 kB]\n",
            "Get:26 http://ppa.launchpad.net/c2d4u.team/c2d4u4.0+/ubuntu bionic/main amd64 r-cran-isoband amd64 0.2.4-1cran1.1804.0 [2,096 kB]\n",
            "Get:27 https://developer.download.nvidia.com/compute/cuda/repos/ubuntu1804/x86_64  libcublas-dev 10.2.3.254-1 [42.4 MB]\n",
            "Get:28 http://archive.ubuntu.com/ubuntu bionic-updates/main amd64 libglib2.0-0 amd64 2.56.4-0ubuntu0.18.04.8 [1,171 kB]\n",
            "Get:29 http://archive.ubuntu.com/ubuntu bionic-updates/main amd64 openssl amd64 1.1.1-1ubuntu2.1~18.04.8 [614 kB]\n",
            "Get:30 http://archive.ubuntu.com/ubuntu bionic-updates/main amd64 binutils-x86-64-linux-gnu amd64 2.30-21ubuntu1~18.04.5 [1,839 kB]\n",
            "Get:31 http://archive.ubuntu.com/ubuntu bionic-updates/main amd64 binutils-common amd64 2.30-21ubuntu1~18.04.5 [197 kB]\n",
            "Get:32 http://archive.ubuntu.com/ubuntu bionic-updates/main amd64 binutils amd64 2.30-21ubuntu1~18.04.5 [3,388 B]\n",
            "Get:33 http://archive.ubuntu.com/ubuntu bionic-updates/main amd64 libbinutils amd64 2.30-21ubuntu1~18.04.5 [489 kB]\n",
            "Get:34 http://archive.ubuntu.com/ubuntu bionic-updates/main amd64 git-man all 1:2.17.1-1ubuntu0.8 [804 kB]\n",
            "Get:35 http://archive.ubuntu.com/ubuntu bionic-updates/main amd64 git amd64 1:2.17.1-1ubuntu0.8 [3,916 kB]\n",
            "Get:36 http://archive.ubuntu.com/ubuntu bionic-updates/main amd64 libsasl2-modules-db amd64 2.1.27~101-g0780600+dfsg-3ubuntu2.3 [15.0 kB]\n",
            "Get:37 http://archive.ubuntu.com/ubuntu bionic-updates/main amd64 libsasl2-2 amd64 2.1.27~101-g0780600+dfsg-3ubuntu2.3 [49.2 kB]\n",
            "Get:38 http://archive.ubuntu.com/ubuntu bionic-updates/main amd64 libldap-common all 2.4.45+dfsg-1ubuntu1.10 [15.8 kB]\n",
            "Get:39 http://archive.ubuntu.com/ubuntu bionic-updates/main amd64 libldap-2.4-2 amd64 2.4.45+dfsg-1ubuntu1.10 [154 kB]\n",
            "Get:40 http://archive.ubuntu.com/ubuntu bionic-updates/main amd64 linux-headers-4.15.0-139 all 4.15.0-139.143 [10.9 MB]\n",
            "Get:41 http://ppa.launchpad.net/c2d4u.team/c2d4u4.0+/ubuntu bionic/main amd64 r-cran-utf8 amd64 1.2.1-1cran1.1804.0 [122 kB]\n",
            "Get:42 http://archive.ubuntu.com/ubuntu bionic-updates/main amd64 linux-headers-4.15.0-139-generic amd64 4.15.0-139.143 [1,101 kB]\n",
            "Get:43 http://archive.ubuntu.com/ubuntu bionic-updates/main amd64 linux-headers-generic amd64 4.15.0.139.126 [2,468 B]\n",
            "Get:44 http://archive.ubuntu.com/ubuntu bionic-updates/main amd64 linux-libc-dev amd64 4.15.0-139.143 [993 kB]\n",
            "Get:45 http://archive.ubuntu.com/ubuntu bionic-updates/universe amd64 gnupg2 all 2.2.4-1ubuntu1.4 [5,292 B]\n",
            "Get:46 http://ppa.launchpad.net/c2d4u.team/c2d4u4.0+/ubuntu bionic/main amd64 r-cran-pillar all 1.5.1-1cran1.1804.0 [832 kB]\n",
            "Get:47 https://developer.download.nvidia.com/compute/machine-learning/repos/ubuntu1804/x86_64  libcudnn7-dev 7.6.5.32-1+cuda10.2 [165 MB]\n",
            "Get:48 http://ppa.launchpad.net/c2d4u.team/c2d4u4.0+/ubuntu bionic/main amd64 r-cran-rvest all 1.0.0-1cran1.1804.0 [191 kB]\n",
            "Get:49 http://ppa.launchpad.net/c2d4u.team/c2d4u4.0+/ubuntu bionic/main amd64 r-cran-xfun amd64 0.22-1cran1.1804.0 [291 kB]\n",
            "Get:50 http://ppa.launchpad.net/c2d4u.team/c2d4u4.0+/ubuntu bionic/main amd64 r-cran-tinytex all 0.30-1cran1.1804.0 [117 kB]\n",
            "Get:51 http://ppa.launchpad.net/c2d4u.team/c2d4u4.0+/ubuntu bionic/main amd64 r-cran-waldo all 0.2.5-1cran1.1804.0 [72.0 kB]\n",
            "Get:52 https://developer.download.nvidia.com/compute/machine-learning/repos/ubuntu1804/x86_64  libcudnn7 7.6.5.32-1+cuda10.2 [189 MB]\n",
            "Get:53 https://developer.download.nvidia.com/compute/cuda/repos/ubuntu1804/x86_64  nsight-compute-2020.3.1 2020.3.1.4-1 [273 MB]\n",
            "Fetched 768 MB in 16s (49.3 MB/s)\n",
            "Extracting templates from packages: 100%\n",
            "(Reading database ... 160975 files and directories currently installed.)\n",
            "Preparing to unpack .../libperl5.26_5.26.1-6ubuntu0.5_amd64.deb ...\n",
            "Unpacking libperl5.26:amd64 (5.26.1-6ubuntu0.5) over (5.26.1-6ubuntu0.3) ...\n",
            "Preparing to unpack .../perl_5.26.1-6ubuntu0.5_amd64.deb ...\n",
            "Unpacking perl (5.26.1-6ubuntu0.5) over (5.26.1-6ubuntu0.3) ...\n",
            "Preparing to unpack .../perl-base_5.26.1-6ubuntu0.5_amd64.deb ...\n",
            "Unpacking perl-base (5.26.1-6ubuntu0.5) over (5.26.1-6ubuntu0.3) ...\n",
            "Setting up perl-base (5.26.1-6ubuntu0.5) ...\n",
            "(Reading database ... 160975 files and directories currently installed.)\n",
            "Preparing to unpack .../perl-modules-5.26_5.26.1-6ubuntu0.5_all.deb ...\n",
            "Unpacking perl-modules-5.26 (5.26.1-6ubuntu0.5) over (5.26.1-6ubuntu0.3) ...\n",
            "Preparing to unpack .../tar_1.29b-2ubuntu0.2_amd64.deb ...\n",
            "Unpacking tar (1.29b-2ubuntu0.2) over (1.29b-2ubuntu0.1) ...\n",
            "Setting up tar (1.29b-2ubuntu0.2) ...\n",
            "update-alternatives: warning: forcing reinstallation of alternative /usr/sbin/rmt-tar because link group rmt is broken\n",
            "(Reading database ... 160975 files and directories currently installed.)\n",
            "Preparing to unpack .../libc-bin_2.27-3ubuntu1.4_amd64.deb ...\n",
            "Unpacking libc-bin (2.27-3ubuntu1.4) over (2.27-3ubuntu1.2) ...\n",
            "Setting up libc-bin (2.27-3ubuntu1.4) ...\n",
            "/sbin/ldconfig.real: /usr/local/lib/python3.7/dist-packages/ideep4py/lib/libmkldnn.so.0 is not a symbolic link\n",
            "\n",
            "(Reading database ... 160975 files and directories currently installed.)\n",
            "Preparing to unpack .../systemd-sysv_237-3ubuntu10.45_amd64.deb ...\n",
            "Unpacking systemd-sysv (237-3ubuntu10.45) over (237-3ubuntu10.44) ...\n",
            "Preparing to unpack .../libpam-systemd_237-3ubuntu10.45_amd64.deb ...\n",
            "Unpacking libpam-systemd:amd64 (237-3ubuntu10.45) over (237-3ubuntu10.44) ...\n",
            "Preparing to unpack .../libsystemd0_237-3ubuntu10.45_amd64.deb ...\n",
            "Unpacking libsystemd0:amd64 (237-3ubuntu10.45) over (237-3ubuntu10.44) ...\n",
            "Setting up libsystemd0:amd64 (237-3ubuntu10.45) ...\n",
            "(Reading database ... 160975 files and directories currently installed.)\n",
            "Preparing to unpack .../systemd_237-3ubuntu10.45_amd64.deb ...\n",
            "Unpacking systemd (237-3ubuntu10.45) over (237-3ubuntu10.44) ...\n",
            "Preparing to unpack .../udev_237-3ubuntu10.45_amd64.deb ...\n",
            "Unpacking udev (237-3ubuntu10.45) over (237-3ubuntu10.44) ...\n",
            "Preparing to unpack .../libudev1_237-3ubuntu10.45_amd64.deb ...\n",
            "Unpacking libudev1:amd64 (237-3ubuntu10.45) over (237-3ubuntu10.44) ...\n",
            "Setting up libudev1:amd64 (237-3ubuntu10.45) ...\n",
            "(Reading database ... 160975 files and directories currently installed.)\n",
            "Preparing to unpack .../libaudit-common_1%3a2.8.2-1ubuntu1.1_all.deb ...\n",
            "Unpacking libaudit-common (1:2.8.2-1ubuntu1.1) over (1:2.8.2-1ubuntu1) ...\n",
            "Setting up libaudit-common (1:2.8.2-1ubuntu1.1) ...\n",
            "(Reading database ... 160975 files and directories currently installed.)\n",
            "Preparing to unpack .../libaudit1_1%3a2.8.2-1ubuntu1.1_amd64.deb ...\n",
            "Unpacking libaudit1:amd64 (1:2.8.2-1ubuntu1.1) over (1:2.8.2-1ubuntu1) ...\n",
            "Setting up libaudit1:amd64 (1:2.8.2-1ubuntu1.1) ...\n",
            "(Reading database ... 160975 files and directories currently installed.)\n",
            "Preparing to unpack .../libzstd1_1.3.3+dfsg-2ubuntu1.2_amd64.deb ...\n",
            "Unpacking libzstd1:amd64 (1.3.3+dfsg-2ubuntu1.2) over (1.3.3+dfsg-2ubuntu1.1) ...\n",
            "Setting up libzstd1:amd64 (1.3.3+dfsg-2ubuntu1.2) ...\n",
            "(Reading database ... 160975 files and directories currently installed.)\n",
            "Preparing to unpack .../libp11-kit0_0.23.9-2ubuntu0.1_amd64.deb ...\n",
            "Unpacking libp11-kit0:amd64 (0.23.9-2ubuntu0.1) over (0.23.9-2) ...\n",
            "Setting up libp11-kit0:amd64 (0.23.9-2ubuntu0.1) ...\n",
            "(Reading database ... 160975 files and directories currently installed.)\n",
            "Preparing to unpack .../00-libglib2.0-dev_2.56.4-0ubuntu0.18.04.8_amd64.deb ...\n",
            "Unpacking libglib2.0-dev:amd64 (2.56.4-0ubuntu0.18.04.8) over (2.56.4-0ubuntu0.18.04.6) ...\n",
            "Preparing to unpack .../01-libglib2.0-dev-bin_2.56.4-0ubuntu0.18.04.8_amd64.deb ...\n",
            "Unpacking libglib2.0-dev-bin (2.56.4-0ubuntu0.18.04.8) over (2.56.4-0ubuntu0.18.04.6) ...\n",
            "Preparing to unpack .../02-libglib2.0-data_2.56.4-0ubuntu0.18.04.8_all.deb ...\n",
            "Unpacking libglib2.0-data (2.56.4-0ubuntu0.18.04.8) over (2.56.4-0ubuntu0.18.04.6) ...\n",
            "Preparing to unpack .../03-libglib2.0-bin_2.56.4-0ubuntu0.18.04.8_amd64.deb ...\n",
            "Unpacking libglib2.0-bin (2.56.4-0ubuntu0.18.04.8) over (2.56.4-0ubuntu0.18.04.6) ...\n",
            "Preparing to unpack .../04-libglib2.0-0_2.56.4-0ubuntu0.18.04.8_amd64.deb ...\n",
            "Unpacking libglib2.0-0:amd64 (2.56.4-0ubuntu0.18.04.8) over (2.56.4-0ubuntu0.18.04.6) ...\n",
            "Preparing to unpack .../05-openssl_1.1.1-1ubuntu2.1~18.04.8_amd64.deb ...\n",
            "Unpacking openssl (1.1.1-1ubuntu2.1~18.04.8) over (1.1.1-1ubuntu2.1~18.04.6) ...\n",
            "Preparing to unpack .../06-binutils-x86-64-linux-gnu_2.30-21ubuntu1~18.04.5_amd64.deb ...\n",
            "Unpacking binutils-x86-64-linux-gnu (2.30-21ubuntu1~18.04.5) over (2.30-21ubuntu1~18.04.4) ...\n",
            "Preparing to unpack .../07-binutils-common_2.30-21ubuntu1~18.04.5_amd64.deb ...\n",
            "Unpacking binutils-common:amd64 (2.30-21ubuntu1~18.04.5) over (2.30-21ubuntu1~18.04.4) ...\n",
            "Preparing to unpack .../08-binutils_2.30-21ubuntu1~18.04.5_amd64.deb ...\n",
            "Unpacking binutils (2.30-21ubuntu1~18.04.5) over (2.30-21ubuntu1~18.04.4) ...\n",
            "Preparing to unpack .../09-libbinutils_2.30-21ubuntu1~18.04.5_amd64.deb ...\n",
            "Unpacking libbinutils:amd64 (2.30-21ubuntu1~18.04.5) over (2.30-21ubuntu1~18.04.4) ...\n",
            "Preparing to unpack .../10-cuda-compat-11-0_450.102.04-1_amd64.deb ...\n",
            "Unpacking cuda-compat-11-0 (450.102.04-1) over (450.80.02-1) ...\n",
            "Preparing to unpack .../11-git-man_1%3a2.17.1-1ubuntu0.8_all.deb ...\n",
            "Unpacking git-man (1:2.17.1-1ubuntu0.8) over (1:2.17.1-1ubuntu0.7) ...\n",
            "Preparing to unpack .../12-git_1%3a2.17.1-1ubuntu0.8_amd64.deb ...\n",
            "Unpacking git (1:2.17.1-1ubuntu0.8) over (1:2.17.1-1ubuntu0.7) ...\n",
            "Preparing to unpack .../13-libcublas10_10.2.3.254-1_amd64.deb ...\n",
            "Unpacking libcublas10 (10.2.3.254-1) over (10.2.1.243-1) ...\n",
            "Preparing to unpack .../14-libcublas-dev_10.2.3.254-1_amd64.deb ...\n",
            "Unpacking libcublas-dev (10.2.3.254-1) over (10.2.1.243-1) ...\n",
            "Preparing to unpack .../15-libcudnn7-dev_7.6.5.32-1+cuda10.2_amd64.deb ...\n",
            "update-alternatives: removing manually selected alternative - switching libcudnn to auto mode\n",
            "update-alternatives: using /usr/include/x86_64-linux-gnu/cudnn_v8.h to provide /usr/include/cudnn.h (libcudnn) in auto mode\n",
            "Unpacking libcudnn7-dev (7.6.5.32-1+cuda10.2) over (7.6.5.32-1+cuda10.1) ...\n",
            "Preparing to unpack .../16-libcudnn7_7.6.5.32-1+cuda10.2_amd64.deb ...\n",
            "Unpacking libcudnn7 (7.6.5.32-1+cuda10.2) over (7.6.5.32-1+cuda10.1) ...\n",
            "Preparing to unpack .../17-libsasl2-modules-db_2.1.27~101-g0780600+dfsg-3ubuntu2.3_amd64.deb ...\n",
            "Unpacking libsasl2-modules-db:amd64 (2.1.27~101-g0780600+dfsg-3ubuntu2.3) over (2.1.27~101-g0780600+dfsg-3ubuntu2.1) ...\n",
            "Preparing to unpack .../18-libsasl2-2_2.1.27~101-g0780600+dfsg-3ubuntu2.3_amd64.deb ...\n",
            "Unpacking libsasl2-2:amd64 (2.1.27~101-g0780600+dfsg-3ubuntu2.3) over (2.1.27~101-g0780600+dfsg-3ubuntu2.1) ...\n",
            "Preparing to unpack .../19-libldap-common_2.4.45+dfsg-1ubuntu1.10_all.deb ...\n",
            "Unpacking libldap-common (2.4.45+dfsg-1ubuntu1.10) over (2.4.45+dfsg-1ubuntu1.6) ...\n",
            "Preparing to unpack .../20-libldap-2.4-2_2.4.45+dfsg-1ubuntu1.10_amd64.deb ...\n",
            "Unpacking libldap-2.4-2:amd64 (2.4.45+dfsg-1ubuntu1.10) over (2.4.45+dfsg-1ubuntu1.6) ...\n",
            "Selecting previously unselected package linux-headers-4.15.0-139.\n",
            "Preparing to unpack .../21-linux-headers-4.15.0-139_4.15.0-139.143_all.deb ...\n",
            "Unpacking linux-headers-4.15.0-139 (4.15.0-139.143) ...\n",
            "Selecting previously unselected package linux-headers-4.15.0-139-generic.\n",
            "Preparing to unpack .../22-linux-headers-4.15.0-139-generic_4.15.0-139.143_amd64.deb ...\n",
            "Unpacking linux-headers-4.15.0-139-generic (4.15.0-139.143) ...\n",
            "Preparing to unpack .../23-linux-headers-generic_4.15.0.139.126_amd64.deb ...\n",
            "Unpacking linux-headers-generic (4.15.0.139.126) over (4.15.0.136.123) ...\n",
            "Preparing to unpack .../24-linux-libc-dev_4.15.0-139.143_amd64.deb ...\n",
            "Unpacking linux-libc-dev:amd64 (4.15.0-139.143) over (4.15.0-118.119) ...\n",
            "Preparing to unpack .../25-nsight-compute-2020.3.1_2020.3.1.4-1_amd64.deb ...\n",
            "Unpacking nsight-compute-2020.3.1 (2020.3.1.4-1) over (2020.3.1.3-1) ...\n"
          ],
          "name": "stdout"
        }
      ]
    },
    {
      "cell_type": "code",
      "metadata": {
        "id": "Xwfqa13BiWes"
      },
      "source": [
        "pip install contextily"
      ],
      "execution_count": null,
      "outputs": []
    },
    {
      "cell_type": "code",
      "metadata": {
        "id": "oY8BfRbXPLz5"
      },
      "source": [
        "% pip install beautifulsoup4\n",
        "% pip install requests"
      ],
      "execution_count": null,
      "outputs": []
    },
    {
      "cell_type": "code",
      "metadata": {
        "id": "6gnmIot4Q79o"
      },
      "source": [
        "\n",
        "from urllib.request import urlopen\n",
        "from bs4 import BeautifulSoup, SoupStrainer"
      ],
      "execution_count": null,
      "outputs": []
    },
    {
      "cell_type": "code",
      "metadata": {
        "id": "aTHw5-RYcxca"
      },
      "source": [
        "import pandas as pd\n",
        "import matplotlib.pyplot as plt\n",
        "import geopandas as gpd\n",
        "import folium\n",
        "\n",
        "import rtree\n",
        "\n",
        "from shapely.geometry import Point\n",
        "from shapely.ops import transform\n",
        "\n",
        "from IPython.display import display"
      ],
      "execution_count": null,
      "outputs": []
    },
    {
      "cell_type": "code",
      "metadata": {
        "id": "HwgOXiScYf4w"
      },
      "source": [
        "import contextily as ctx\n",
        "import requests\n",
        "import tempfile\n",
        "import zipfile\n"
      ],
      "execution_count": null,
      "outputs": []
    },
    {
      "cell_type": "markdown",
      "metadata": {
        "id": "QHLmku_VfebV"
      },
      "source": [
        "#Communes de France"
      ]
    },
    {
      "cell_type": "code",
      "metadata": {
        "id": "k-ymbh1EfQtI"
      },
      "source": [
        "\n",
        "url = 'https://www.data.gouv.fr/fr/datasets/r/17062524-991f-4e13-9bf0-b410cc2216fd'\n",
        "temporary_location = tempfile.gettempdir()\n",
        "\n",
        "def download_unzip(url, dirname = tempfile.gettempdir(), destname = \"borders\"):\n",
        "  myfile = requests.get(url)\n",
        "  open(dirname + '/' + destname + '.zip', 'wb').write(myfile.content)\n",
        "  with zipfile.ZipFile(dirname + '/' + destname + '.zip', 'r') as zip_ref:\n",
        "      zip_ref.extractall(dirname + '/' + destname)"
      ],
      "execution_count": null,
      "outputs": []
    },
    {
      "cell_type": "code",
      "metadata": {
        "id": "_CenL7V9aw67"
      },
      "source": [
        "download_unzip(url)\n",
        "communes = gpd.read_file(temporary_location + \"/borders/communes-20210101.shp\")\n",
        "communes.head()"
      ],
      "execution_count": null,
      "outputs": []
    },
    {
      "cell_type": "code",
      "metadata": {
        "id": "kU4yGg-_fC9a"
      },
      "source": [
        "communes.shape"
      ],
      "execution_count": null,
      "outputs": []
    },
    {
      "cell_type": "code",
      "metadata": {
        "id": "EKnKloK8fGsd"
      },
      "source": [
        "haute_gar = communes[communes.insee.str.startswith(\"31\")]\n",
        "ax = haute_gar.plot(figsize=(10, 10), alpha=0.5, edgecolor='k')\n",
        "ctx.add_basemap(ax, crs = haute_gar.crs.to_string())\n",
        "ax"
      ],
      "execution_count": null,
      "outputs": []
    },
    {
      "cell_type": "markdown",
      "metadata": {
        "id": "pxy2wiwrlruk"
      },
      "source": [
        "#Données metro, tram et RER ile de france"
      ]
    },
    {
      "cell_type": "code",
      "metadata": {
        "id": "xhmLL6kIlqLH"
      },
      "source": [
        "url=\"https://www.data.gouv.fr/fr/datasets/r/95bb11ed-b606-437e-a5b6-72742678cb3e\""
      ],
      "execution_count": null,
      "outputs": []
    },
    {
      "cell_type": "code",
      "metadata": {
        "id": "9SENBdmbmQ3y"
      },
      "source": [
        "transport_idf = gpd.read_file(url)\n",
        "transport_idf.head()"
      ],
      "execution_count": null,
      "outputs": []
    },
    {
      "cell_type": "code",
      "metadata": {
        "id": "bGhyZ1-kq72m"
      },
      "source": [
        "transport_idf.shape"
      ],
      "execution_count": null,
      "outputs": []
    },
    {
      "cell_type": "markdown",
      "metadata": {
        "id": "GLT1J0YMobQx"
      },
      "source": [
        "#Arrêts transport en commun à Lyon"
      ]
    },
    {
      "cell_type": "code",
      "metadata": {
        "id": "-tGRf3QyojmA"
      },
      "source": [
        "url_lyon=\"https://www.data.gouv.fr/fr/datasets/r/3c4701aa-6ac8-467d-be11-2a9808988097\""
      ],
      "execution_count": null,
      "outputs": []
    },
    {
      "cell_type": "code",
      "metadata": {
        "id": "EbvGJ8vyosaE"
      },
      "source": [
        "transport_lyon = gpd.read_file(url_lyon)\n",
        "transport_lyon.head()"
      ],
      "execution_count": null,
      "outputs": []
    },
    {
      "cell_type": "code",
      "metadata": {
        "id": "oQYMWdU-qtp5"
      },
      "source": [
        "transport_lyon.shape"
      ],
      "execution_count": null,
      "outputs": []
    },
    {
      "cell_type": "markdown",
      "metadata": {
        "id": "C_Tb8-sarRT_"
      },
      "source": [
        "#Transport en commun toulouse"
      ]
    },
    {
      "cell_type": "code",
      "metadata": {
        "id": "kf-Xf8PMqyS0"
      },
      "source": [
        "url_toulouse_bus=\"https://www.data.gouv.fr/fr/datasets/r/c6787c06-fc3c-49b1-b9ca-9ae542f788e0\""
      ],
      "execution_count": null,
      "outputs": []
    },
    {
      "cell_type": "code",
      "metadata": {
        "id": "fv_Po52osHhP"
      },
      "source": [
        "transport_toulouse_bus = gpd.read_file(url_toulouse_bus)\n",
        "transport_toulouse_bus.head()"
      ],
      "execution_count": null,
      "outputs": []
    },
    {
      "cell_type": "markdown",
      "metadata": {
        "id": "KyvcYMMnRA2K"
      },
      "source": [
        "#Scraping des données bus"
      ]
    },
    {
      "cell_type": "code",
      "metadata": {
        "id": "yem-ySxpRFss"
      },
      "source": [
        "page= requests.get(\"https://transport.data.gouv.fr/datasets?q=arrets+bus\")\n",
        "soup= BeautifulSoup(page.content,\"html.parser\")"
      ],
      "execution_count": null,
      "outputs": []
    },
    {
      "cell_type": "code",
      "metadata": {
        "id": "w8bztFf8Ug0w"
      },
      "source": [
        "print(soup)"
      ],
      "execution_count": null,
      "outputs": []
    },
    {
      "cell_type": "code",
      "metadata": {
        "id": "x-qXbbDqUrIj"
      },
      "source": [
        "week= soup.find(class_=\"dataset-page\")\n",
        "#items= week.find_all(class_='tombstone-container')\n"
      ],
      "execution_count": null,
      "outputs": []
    },
    {
      "cell_type": "code",
      "metadata": {
        "id": "1x-eQPTnX-GC"
      },
      "source": [
        "#http = httplib2.Http()\n",
        "#status, response = http.request('https://transport.data.gouv.fr/datasets?q=arrets+bus')\n",
        "#for link in BeautifulSoup(response, 'html.parser',\n",
        " #                            parseOnlyThese=SoupStrainer('a')):\n",
        " #   if link.has_attr('href'):\n",
        " #       lien= link['href']\n",
        "        #page1= requests.get(\"http://lien\")\n",
        "        #soup1= BeautifulSoup(page.content,\"html.parser\")\n",
        "        \n"
      ],
      "execution_count": null,
      "outputs": []
    },
    {
      "cell_type": "code",
      "metadata": {
        "id": "Qe3GbHGfkkmL"
      },
      "source": [
        "url = urlopen(\"https://transport.data.gouv.fr/datasets?q=arrets+bus\").read()\n",
        "soup = BeautifulSoup(url)\n",
        "for line in soup.find_all('a'):\n",
        "    lien=line.get('href')\n",
        "    print(lien)\n",
        "    "
      ],
      "execution_count": null,
      "outputs": []
    },
    {
      "cell_type": "code",
      "metadata": {
        "id": "SX6BN3JKlZOX"
      },
      "source": [
        ""
      ],
      "execution_count": null,
      "outputs": []
    },
    {
      "cell_type": "markdown",
      "metadata": {
        "id": "TaQX7LI34RiB"
      },
      "source": [
        "#Fonctions sur les liens sur une page"
      ]
    },
    {
      "cell_type": "code",
      "metadata": {
        "id": "wSgvw_Y5lTs7"
      },
      "source": [
        "import urllib\n",
        "import lxml.html\n",
        "from urllib.parse import urlparse, parse_qsl, urljoin"
      ],
      "execution_count": null,
      "outputs": []
    },
    {
      "cell_type": "code",
      "metadata": {
        "id": "7x2xN8S1k5s0"
      },
      "source": [
        "def get_dom(url):\n",
        "    connection = urlopen(url)\n",
        "    return lxml.html.fromstring(connection.read())\n",
        "\n",
        "def get_links(url):\n",
        "    return resolve_links((link for link in get_dom(url).xpath('//a/@href')))\n",
        "\n",
        "def guess_root(links):\n",
        "    for link in links:\n",
        "        if link.startswith('http'):\n",
        "            parsed_link = urlparse(link)\n",
        "            scheme = parsed_link.scheme + '://'\n",
        "            netloc = parsed_link.netloc\n",
        "            return scheme + netloc\n",
        "def resolve_links(links):\n",
        "    root = guess_root(links)\n",
        "    for link in links:\n",
        "        if not link.startswith('http'):\n",
        "            link = urljoin(root, link)\n",
        "        yield link  "
      ],
      "execution_count": null,
      "outputs": []
    },
    {
      "cell_type": "code",
      "metadata": {
        "id": "EKs7b02B2QJf"
      },
      "source": [
        "for link in get_links('https://www.data.gouv.fr/fr/datasets/'):\n",
        "  print(link)"
      ],
      "execution_count": null,
      "outputs": []
    },
    {
      "cell_type": "code",
      "metadata": {
        "id": "QmGcRIdMfD9k"
      },
      "source": [
        "url=\"https://transport.data.gouv.fr/datasets?q=arrets+bus\"\n",
        "page=urlopen(url)\n",
        "data=page.read().decode().split(\"</a>\")\n",
        "tag=\"<a href=\\\"\"\n",
        "endtag=\"\\\">\"\n",
        "for item in data:\n",
        "    if \"<a href\" in item:\n",
        "        try:\n",
        "            ind = item.index(tag)\n",
        "            item=item[ind+len(tag):]\n",
        "            end=item.index(endtag)\n",
        "        except: pass\n",
        "        else:\n",
        "            [print (item[:end])"
      ],
      "execution_count": null,
      "outputs": []
    },
    {
      "cell_type": "code",
      "metadata": {
        "id": "hV0urjD38zuR"
      },
      "source": [
        "#!/usr/bin/env python\n",
        "import sys\n",
        "import lxml.html\n",
        "import fnmatch\n",
        "from urllib.request import urlopen as open\n",
        "\n",
        "try:\n",
        "    import urltools as urltools\n",
        "except ImportError:\n",
        "    sys.stderr.write('To normalize URLs run: `pip install urltools --user`')\n",
        "    urltools = None\n",
        "\n",
        "\n",
        "def get_host(url):\n",
        "    p = urlparse(url)\n",
        "    return \"{}://{}\".format(p.scheme, p.netloc)\n",
        "\n",
        "\n",
        "if __name__ == '__main__':\n",
        "    url = sys.argv[1]\n",
        "    host = get_host(url)\n",
        "    glob_patt = len(sys.argv) > 2 and sys.argv[2] or '*'\n",
        "\n",
        "    doc = lxml.html.fromstring(urlopen(url).read())\n",
        "    links = doc.xpath('//a[@href]')\n",
        "\n",
        "    for link in links:\n",
        "        href = link.attrib['href']\n",
        "\n",
        "        if fnmatch.fnmatch(href, glob_patt):\n",
        "\n",
        "            if not href.startswith(('http://', 'https://' 'ftp://')):\n",
        "\n",
        "                if href.startswith('/'):\n",
        "                    href = host + href\n",
        "                else:\n",
        "                    parent_url = url.rsplit('/', 1)[0]\n",
        "                    href = urlparse.urljoin(parent_url, href)\n",
        "\n",
        "                    if urltools:\n",
        "                        href = urltools.normalize(href)\n",
        "\n",
        "            print (href)"
      ],
      "execution_count": null,
      "outputs": []
    }
  ]
}